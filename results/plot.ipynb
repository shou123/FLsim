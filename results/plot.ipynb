{
 "cells": [
  {
   "cell_type": "code",
   "execution_count": 2,
   "metadata": {},
   "outputs": [],
   "source": [
    "import matplotlib.pyplot as plt\n",
    "import re "
   ]
  },
  {
   "cell_type": "code",
   "execution_count": 35,
   "metadata": {},
   "outputs": [],
   "source": [
    "data = [\n",
    "    [5.820477485656738, 5.849287033081055, 5.894550800323486, 5.757355213165283, 5.895905017852783, 5.862029552459717, 5.879100799560547, 5.8915252685546875, 5.8967742919921875, 5.948577880859375],\n",
    "    [4.579928398132324, 4.595116138458252, 4.70255184173584, 4.570244789123535, 4.5541605949401855, 4.52849006652832, 4.621817111968994, 4.675551891326904, 4.7495245933532715, 4.548280715942383],\n",
    "    [5.788695335388184, 5.911676406860352, 5.838220119476318, 5.8349432945251465, 5.785244464874268, 5.838003158569336, 5.877598762512207, 5.956485271453857, 5.829346179962158, 5.841627597808838],\n",
    "    [6.476629734039307, 6.467517375946045, 6.4698805809021, 6.475863456726074, 6.4986419677734375, 6.453755855560303, 6.462051868438721, 6.416213512420654, 6.514853477478027, 6.42742395401001],\n",
    "    [6.65763521194458, 6.644381523132324, 6.641670227050781, 6.547553062438965, 6.602097988128662, 6.585722923278809, 6.627414703369141, 6.670651912689209, 6.623330116271973, 6.693541526794434],\n",
    "    [6.548458576202393, 6.524158000946045, 6.4875946044921875, 6.455855846405029, 6.505078315734863, 6.461330890655518, 6.527586460113525, 6.546912670135498, 6.479358673095703, 6.529869079589844],\n",
    "    [6.36758279800415, 6.300368785858154, 6.3191633224487305, 6.330577850341797, 6.317408561706543, 6.293627738952637, 6.264472484588623, 6.275016784667969, 6.342649936676025, 6.333892822265625],\n",
    "    [6.1097798347473145, 6.087468147277832, 6.067747592926025, 6.152024745941162, 6.165536880493164, 6.096273899078369, 6.128061771392822, 6.136622905731201, 6.12327241897583, 6.1504292488098145],\n",
    "    [5.941108226776123, 5.945394515991211, 5.997452735900879, 5.969380855560303, 5.941178798675537, 5.947519779205322, 5.895113945007324, 5.93455171585083, 5.972716808319092, 5.954686164855957],\n",
    "    [5.785305976867676, 5.766879081726074, 5.838581085205078, 5.782815456390381, 5.786116123199463, 5.83371114730835, 5.798781871795654, 5.7583465576171875, 5.855493545532227, 5.764644145965576],\n",
    "]\n",
    "\n",
    "data1 = [5.40809440612793, 9.905807495117188, 10.906798362731934, 11.485921859741211, 11.595915794372559, 11.414328575134277, 11.18283748626709, 10.950201988220215, 10.46625804901123, 10.141627311706543, 9.979117393493652, 9.406672477722168, 9.070042610168457, 8.73133659362793, 8.416838645935059, 7.943685054779053, 7.545650482177734, 7.126049995422363, 7.012993335723877, 6.5999250411987305, 6.520440578460693, 6.133361339569092, 5.953932762145996, 5.617036819458008, 5.5290751457214355, 5.413089752197266, 5.75247859954834, 5.641578197479248, 5.425764560699463, 5.260133743286133, 5.374823570251465, 5.238887786865234, 5.344701766967773, 5.303193092346191, 4.909127235412598, 4.79293966293335, 4.76482629776001, 4.593988418579102, 4.643357276916504, 4.705153465270996, 4.636393070220947, 4.463473320007324, 4.5340776443481445, 4.163957595825195, 4.198866367340088, 4.43096399307251, 4.285065650939941, 4.4239983558654785, 4.443284034729004, 4.4221320152282715, 4.432587146759033, 4.007864475250244, 3.9636056423187256, 4.026546955108643, 3.918440341949463, 3.919229507446289, 4.0738205909729, 4.265823841094971, 4.604588031768799, 4.531039714813232, 4.088411331176758, 4.274870872497559, 3.8510210514068604, 3.8753795623779297, 4.115446090698242, 3.9846975803375244, 3.6976401805877686, 3.8466241359710693, 3.737833023071289, 3.494560956954956, 3.381962776184082, 3.180717706680298, 3.3524296283721924, 3.4949731826782227, 3.341564655303955, 3.3320107460021973, 3.2141454219818115, 3.3231475353240967, 3.1635825634002686, 3.3208627700805664, 3.152312994003296, 3.0163919925689697, 2.682504653930664, 2.7499406337738037, 2.630525588989258, 2.688666820526123, 2.542203664779663, 2.8882737159729004, 2.761720657348633, 2.5388896465301514, 2.5877182483673096, 2.636566400527954, 2.5264556407928467, 2.6313066482543945, 2.7534406185150146, 2.889997959136963, 2.7206549644470215, 2.959036350250244, 3.0251572132110596, 2.58199143409729]"
   ]
  },
  {
   "cell_type": "code",
   "execution_count": null,
   "metadata": {},
   "outputs": [],
   "source": [
    "# plot data\n",
    "# Create subplots for each group\n",
    "fig, ax = plt.subplots(nrows=len(data), ncols=1, figsize=(8, 20))\n",
    "fig.subplots_adjust(hspace=0.4)  # Adjust the hspace value as needed (0.4 increases the vertical spacing)\n",
    "\n",
    "\n",
    "# Plot each group as a bar graph and label each bar with its value\n",
    "for i, group in enumerate(data):\n",
    "    x_values = list(range(10 * i, 10 * (i + 1)))\n",
    "    ax[i].bar(x_values, group, tick_label=x_values)\n",
    "    # ax[i].set_title(f'Group {i+1}')\n",
    "    ax[i].set_xlabel(f'Round {i+1}')\n",
    "    ax[i].set_ylabel('Distance')\n",
    "    \n",
    "    # Annotate each bar with its value\n",
    "    for x, y in zip(x_values, group):\n",
    "        ax[i].text(x, y, f'{y:.2f}', ha='center', va='bottom')\n",
    "\n",
    "# Adjust spacing between subplots\n",
    "plt.tight_layout()\n",
    "\n",
    "# Show the plot\n",
    "plt.show()"
   ]
  },
  {
   "cell_type": "code",
   "execution_count": 38,
   "metadata": {},
   "outputs": [
    {
     "data": {
      "image/png": "[encoded data removed]",
      "text/plain": [
       "<Figure size 432x288 with 1 Axes>"
      ]
     },
     "metadata": {
      "needs_background": "light"
     },
     "output_type": "display_data"
    }
   ],
   "source": [
    "# plot data1\n",
    "\n",
    "# Create a plot\n",
    "plt.plot(data1)\n",
    "\n",
    "# Add title and labels\n",
    "plt.title(\"Data1 Plot\")\n",
    "plt.xlabel(\"Diatance\")\n",
    "plt.ylabel(\"clients\")\n",
    "\n",
    "# Display the plot\n",
    "plt.show()"
   ]
  },
  {
   "cell_type": "code",
   "execution_count": null,
   "metadata": {},
   "outputs": [],
   "source": [
    "################################################################################\n",
    "#######################plot the distance for each clients\n",
    "################################################################################\n",
    "# Define the file path\n",
    "file_path = \"/home/shiyue/FLSim/results/distance_values.txt\"\n",
    "\n",
    "# Initialize a dictionary to store client data\n",
    "client_data = {}\n",
    "\n",
    "# Read the data from the file\n",
    "with open(file_path, \"r\") as file:\n",
    "    for line in file:\n",
    "        parts = line.split()\n",
    "        client_number = int(parts[1][:-2])  # Extract the client number\n",
    "        norm_value = float(parts[3])  # Extract the norm value\n",
    "        if client_number not in client_data:\n",
    "            client_data[client_number] = []\n",
    "        client_data[client_number].append(norm_value)\n",
    "# Set the figure size (adjust the width and height as needed)\n",
    "plt.figure(figsize=(25, 15))\n",
    "# Plot the data for all clients\n",
    "for client_number, data in client_data.items():\n",
    "    rounds = range(len(data))  # X-axis values\n",
    "    plt.plot(rounds, data, label=f'Client {client_number}')\n",
    "\n",
    "# Set plot labels and legend\n",
    "plt.title(\"Distance Value for Different Clients\")\n",
    "plt.xlabel(\"Rounds\")\n",
    "plt.ylabel(\"Distance\")\n",
    "plt.legend(loc=\"upper right\")\n",
    "\n",
    "# Define the number of legend columns\n",
    "num_legend_columns = 2  # Adjust as needed\n",
    "\n",
    "# Create a legend with multiple columns\n",
    "plt.legend(loc=\"upper right\", ncol=num_legend_columns)\n",
    "\n",
    "# Show the plot\n",
    "plt.show()"
   ]
  }
 ],
 "metadata": {
  "kernelspec": {
   "display_name": "Python 3.8.10 64-bit",
   "language": "python",
   "name": "python3"
  },
  "language_info": {
   "codemirror_mode": {
    "name": "ipython",
    "version": 3
   },
   "file_extension": ".py",
   "mimetype": "text/x-python",
   "name": "python",
   "nbconvert_exporter": "python",
   "pygments_lexer": "ipython3",
   "version": "3.8.10"
  },
  "orig_nbformat": 4,
  "vscode": {
   "interpreter": {
    "hash": "916dbcbb3f70747c44a77c7bcd40155683ae19c65e1c03b4aa3499c5328201f1"
   }
  }
 },
 "nbformat": 4,
 "nbformat_minor": 2
}
