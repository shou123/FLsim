{
 "cells": [
  {
   "cell_type": "code",
   "execution_count": 4,
   "metadata": {},
   "outputs": [],
   "source": [
    "import matplotlib.pyplot as plt\n",
    "import re \n",
    "import ast\n"
   ]
  },
  {
   "cell_type": "code",
   "execution_count": null,
   "metadata": {},
   "outputs": [],
   "source": [
    "###plot the training accuracy\n",
    "\n",
    "file_path = \"/home/shiyue/FLsim/results/accuracy_trend.txt\"\n",
    "\n",
    "accuracy_values = []\n",
    "\n",
    "with open(file_path,\"r\") as file:\n",
    "    lines = file.readlines()\n",
    "\n",
    "for line in lines:\n",
    "    data = ast.literal_eval(line)\n",
    "    accuracy = data['Accuracy']\n",
    "    accuracy_values.append(accuracy)\n",
    "\n",
    "epochs = range(1,len(accuracy_values)+1)\n",
    "plt.plot(epochs,accuracy_values,marker='o',linestyle='-')\n",
    "\n",
    "plt.xlabel(\"Global_round\")\n",
    "plt.ylabel(\"Accuracy\")\n",
    "plt.title(\"Training Accuracy Trend\")\n",
    "\n",
    "plt.show()"
   ]
  },
  {
   "cell_type": "code",
   "execution_count": null,
   "metadata": {},
   "outputs": [],
   "source": [
    "################################################################################\n",
    "#######################plot the distance for each clients\n",
    "################################################################################\n",
    "# Define the file path\n",
    "file_path = \"/home/shiyue/FLsim/results/distance_values.txt\"\n",
    "\n",
    "# Initialize a dictionary to store client data\n",
    "client_data = {}\n",
    "\n",
    "# Read the data from the file\n",
    "with open(file_path, \"r\") as file:\n",
    "    for line in file:\n",
    "        parts = line.split()\n",
    "        client_number = int(parts[1][:-2])  # Extract the client number\n",
    "        norm_value = float(parts[3])  # Extract the norm value\n",
    "        if client_number not in client_data:\n",
    "            client_data[client_number] = []\n",
    "        client_data[client_number].append(norm_value)\n",
    "# Set the figure size (adjust the width and height as needed)\n",
    "plt.figure(figsize=(10, 5))\n",
    "# Plot the data for all clients\n",
    "for client_number, data in client_data.items():\n",
    "    rounds = range(len(data))  # X-axis values\n",
    "    plt.plot(rounds, data, label=f'Client {client_number}')\n",
    "\n",
    "# Set plot labels and legend\n",
    "plt.title(\"Distance Value for Different Clients\")\n",
    "plt.xlabel(\"Rounds\")\n",
    "plt.ylabel(\"Distance\")\n",
    "plt.legend(loc=\"upper right\")\n",
    "\n",
    "# Define the number of legend columns\n",
    "num_legend_columns = 2  # Adjust as needed\n",
    "\n",
    "# Create a legend with multiple columns\n",
    "plt.legend(loc=\"upper right\", ncol=num_legend_columns)\n",
    "\n",
    "# Show the plot\n",
    "plt.show()"
   ]
  },
  {
   "cell_type": "code",
   "execution_count": null,
   "metadata": {},
   "outputs": [],
   "source": [
    "### plot the client data distribution\n",
    "file_path = \"/home/shiyue/FLsim/results/client_data_size.txt\"\n",
    "\n",
    "clients = []\n",
    "data_sizes = []\n",
    "\n",
    "with open (file_path, 'r') as file:\n",
    "    lines = file.readlines()[:10]\n",
    "\n",
    "\n",
    "for line in lines:\n",
    "    parts = line.split(\", \")\n",
    "    client = int(parts[0].split(\": \")[1])\n",
    "    data_size = int(parts[1].split(\": \")[1])\n",
    "    clients.append(client)\n",
    "    data_sizes.append(data_size)\n",
    "\n",
    "\n",
    "plt.bar(clients,data_sizes)\n",
    "plt.xlabel(\"Client\")\n",
    "plt.ylabel(\"Value (Data Size)\")\n",
    "plt.title(\"Clients data petition\")\n",
    "\n",
    "for i,value in enumerate(data_sizes):\n",
    "    plt.text(clients[i],value,str(value),ha='center',va='bottom')\n",
    "\n",
    "plt.show()\n",
    "\n",
    "\n",
    "\n"
   ]
  },
  {
   "cell_type": "code",
   "execution_count": 8,
   "metadata": {},
   "outputs": [
    {
     "data": {
      "image/png": "[encoded data removed]",
      "text/plain": [
       "<Figure size 432x288 with 1 Axes>"
      ]
     },
     "metadata": {
      "needs_background": "light"
     },
     "output_type": "display_data"
    },
    {
     "data": {
      "text/plain": [
       "<Figure size 1080x360 with 0 Axes>"
      ]
     },
     "metadata": {},
     "output_type": "display_data"
    }
   ],
   "source": [
    "import matplotlib.pyplot as plt\n",
    "\n",
    "file_path = \"/home/shiyue/FLsim/results/non-iid_data_distribution.txt\"\n",
    "\n",
    "# Initialize dictionaries to store training and testing data for each client\n",
    "train_data = {}\n",
    "test_data = {}\n",
    "\n",
    "# Read the file line by line\n",
    "with open(file_path, 'r') as file:\n",
    "    for line in file:\n",
    "        # Split the line into words\n",
    "        words = line.split()\n",
    "\n",
    "        # Extract information from the line\n",
    "        client_id = int(words[1][:-1])  # Extract the client ID\n",
    "        data_type = words[2].lower()    # Extract whether it's training or testing data\n",
    "        label = int(words[4][:-1])       # Extract the label\n",
    "        samples = int(words[-1])        # Extract the number of samples\n",
    "\n",
    "        # Update the corresponding dictionary\n",
    "        if data_type == 'train':\n",
    "            if client_id not in train_data:\n",
    "                train_data[client_id] = {}\n",
    "            train_data[client_id][label] = samples\n",
    "        elif data_type == 'test':\n",
    "            if client_id not in test_data:\n",
    "                test_data[client_id] = {}\n",
    "            test_data[client_id][label] = samples\n",
    "\n",
    "# Combine training and testing data for plotting\n",
    "data_to_plot = {**train_data}\n",
    "\n",
    "fig, ax = plt.subplots(figsize=(15, 8))\n",
    "\n",
    "legend_labels = set()  # Track unique labels for custom legend\n",
    "\n",
    "for i, client in enumerate(data_to_plot):\n",
    "    for j, label in enumerate(data_to_plot[client]):\n",
    "        ax.barh(i, data_to_plot[client][label], left=sum([data_to_plot[client][l] for l in list(data_to_plot[client])[:j]]), height=0.5, color=f'C{j}')\n",
    "        legend_labels.add(label)\n",
    "\n",
    "ax.set_yticks(range(len(data_to_plot)))\n",
    "ax.set_yticklabels([f'Client {c}' for c in data_to_plot.keys()])\n",
    "ax.set_xlabel('Sample Number')\n",
    "ax.set_ylabel('Client')\n",
    "\n",
    "\n",
    "# Create a custom legend with unique labels\n",
    "legend_handles = [plt.Rectangle((0, 0), 1, 1, color=f'C{j}', label=f'Label {label}') for j, label in enumerate(legend_labels)]\n",
    "ax.legend(handles=legend_handles, bbox_to_anchor=(1.05, 1), loc='upper left', borderaxespad=0.)\n",
    "\n",
    "plt.show()\n"
   ]
  }
 ],
 "metadata": {
  "kernelspec": {
   "display_name": "Python 3.8.10 64-bit",
   "language": "python",
   "name": "python3"
  },
  "language_info": {
   "codemirror_mode": {
    "name": "ipython",
    "version": 3
   },
   "file_extension": ".py",
   "mimetype": "text/x-python",
   "name": "python",
   "nbconvert_exporter": "python",
   "pygments_lexer": "ipython3",
   "version": "3.8.10"
  },
  "orig_nbformat": 4,
  "vscode": {
   "interpreter": {
    "hash": "916dbcbb3f70747c44a77c7bcd40155683ae19c65e1c03b4aa3499c5328201f1"
   }
  }
 },
 "nbformat": 4,
 "nbformat_minor": 2
}
